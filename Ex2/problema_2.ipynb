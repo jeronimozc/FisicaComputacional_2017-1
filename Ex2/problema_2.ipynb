{
 "cells": [
  {
   "cell_type": "code",
   "execution_count": 1,
   "metadata": {
    "collapsed": true
   },
   "outputs": [],
   "source": [
    "import numpy as np\n",
    "import matplotlib.pyplot as plt\n",
    "from numpy.linalg import norm\n",
    "%matplotlib inline"
   ]
  },
  {
   "cell_type": "markdown",
   "metadata": {},
   "source": [
    "Tenemos la Hamiltoniana del problema, y podemos identificarla con la energía del sistema ($H=E$) ya que $H$ no debpende del tiempo. \n",
    "\n",
    "Por lo tanto:\n",
    "\n",
    "$E = \\frac{1}{2}(p_{x}^{2}+p_{y}^{2})+\\frac{1}{2}(x^{2}+y^{2})+x^{2}y-\\frac{1}{3}y^{3}$"
   ]
  },
  {
   "cell_type": "markdown",
   "metadata": {},
   "source": [
    "## A)\n",
    "\n",
    "Para que el sistema tenga órbitas _acotadas_, basta con que la energía cumpla que $E<0$.  \n",
    "\n",
    "Ya que nuestra expresión para la energía contiene términos que pueden ser negativos (el tercero y cuarto), podemos dar condiciones iniciales $p_{x}, p_{y}, x , y$ tales que la energía sea negativa."
   ]
  },
  {
   "cell_type": "code",
   "execution_count": 5,
   "metadata": {
    "collapsed": false
   },
   "outputs": [],
   "source": [
    "def energia(xp):\n",
    "    \"\"\"\n",
    "    El argumento debe ser xp = [ x, y, Px, Py ]\n",
    "    \"\"\"\n",
    "    a = 0.5*(xp[2]*xp[2]+xp[3]*xp[3])\n",
    "    b = 0.5*(xp[0]*xp[0]+xp[1]*xp[1])\n",
    "    c = xp[0]*xp[0]*xp[1]\n",
    "    d = (1./3)*xp[1]*xp[1]*xp[1]\n",
    "    return a+b+c+d"
   ]
  },
  {
   "cell_type": "code",
   "execution_count": null,
   "metadata": {
    "collapsed": true
   },
   "outputs": [],
   "source": []
  }
 ],
 "metadata": {
  "kernelspec": {
   "display_name": "Python 2",
   "language": "python",
   "name": "python2"
  },
  "language_info": {
   "codemirror_mode": {
    "name": "ipython",
    "version": 2
   },
   "file_extension": ".py",
   "mimetype": "text/x-python",
   "name": "python",
   "nbconvert_exporter": "python",
   "pygments_lexer": "ipython2",
   "version": "2.7.12"
  }
 },
 "nbformat": 4,
 "nbformat_minor": 0
}
