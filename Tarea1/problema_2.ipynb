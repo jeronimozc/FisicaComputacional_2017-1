{
 "cells": [
  {
   "cell_type": "code",
   "execution_count": 2,
   "metadata": {
    "collapsed": true
   },
   "outputs": [],
   "source": [
    "from pylab import *\n",
    "%run integradores.ipynb\n",
    "%matplotlib inline"
   ]
  },
  {
   "cell_type": "markdown",
   "metadata": {},
   "source": [
    "Primero, programo la ecuación dada en la siguiente función"
   ]
  },
  {
   "cell_type": "code",
   "execution_count": 3,
   "metadata": {
    "collapsed": true
   },
   "outputs": [],
   "source": [
    "inicial = [1,2,1]\n",
    "dominio = [[1,1.9],[1,2.1]]\n",
    "\n",
    "def ecuacion(y,t):\n",
    "    y_3dot = exp(-t)*sin(3*t) - cos(y[0])*cos(y[0]) + 3*y[1]*y[1]*y[1] - y[2]*y[2]\n",
    "    return array([y[1],y[2],y_3dot])"
   ]
  },
  {
   "cell_type": "markdown",
   "metadata": {},
   "source": [
    "Después de algunos problemas al momento de integrar la solución, descubrí que la ecuación tiene una singularidad en $x=2$, de manera que mientras el integrador se acerca a este punto, necesita una $h$ cada vez más pequeña para lograr una solución, para no ''explotar''.\n",
    "\n",
    "A continuación, ejemplifico esto usando el método de Runge-Kutta."
   ]
  },
  {
   "cell_type": "code",
   "execution_count": 13,
   "metadata": {
    "collapsed": true
   },
   "outputs": [],
   "source": [
    "t1,sol1 = int_rk4(ecuacion,inicial,[1,1.87],h=0.001)"
   ]
  },
  {
   "cell_type": "markdown",
   "metadata": {},
   "source": [
    "Integrando de $1.00$ a $1.87$, llegamos sin problema a una solución."
   ]
  },
  {
   "cell_type": "code",
   "execution_count": 6,
   "metadata": {
    "collapsed": false
   },
   "outputs": [
    {
     "name": "stderr",
     "output_type": "stream",
     "text": [
      "/home/jz/anaconda2/lib/python2.7/site-packages/ipykernel/__main__.py:5: RuntimeWarning: overflow encountered in double_scalars\n",
      "/home/jz/anaconda2/lib/python2.7/site-packages/ipykernel/__main__.py:5: RuntimeWarning: invalid value encountered in cos\n"
     ]
    }
   ],
   "source": [
    "t,sol = int_rk4(ecuacion,inicial,[1,1.90],h=0.001)"
   ]
  },
  {
   "cell_type": "markdown",
   "metadata": {},
   "source": [
    "Usando el mismo paso, pero extendiendo la integración hasta $1.90$, \n",
    "Python me arroja una adevertencia de _overflow_ y una subsecuente sobre un valor inválido en un coseno;\n",
    "seguramente el $\\cos(y)^{2}$ que es parte de nuestra ecuación diferencial"
   ]
  },
  {
   "cell_type": "code",
   "execution_count": 14,
   "metadata": {
    "collapsed": false
   },
   "outputs": [],
   "source": [
    "t2,sol2 = int_rk4(ecuacion,sol1[-1],[1.87,1.970],h=0.000001)"
   ]
  },
  {
   "cell_type": "markdown",
   "metadata": {},
   "source": [
    "Ahora, reduciendo el paso de integración $h$ por tres ordenes de magnitud, podemos extender la solución hasta $x=1.970$\n",
    "\n",
    "A continuación, gráfico ambas partes de la solución para ver como nos acercamos al punto de ''explosión''."
   ]
  },
  {
   "cell_type": "code",
   "execution_count": 17,
   "metadata": {
    "collapsed": false
   },
   "outputs": [
    {
     "data": {
      "text/plain": [
       "<matplotlib.legend.Legend at 0x7f282b441290>"
      ]
     },
     "execution_count": 17,
     "metadata": {},
     "output_type": "execute_result"
    },
    {
     "data": {
      "image/png": "[encoded data removed]",
      "text/plain": [
       "<matplotlib.figure.Figure at 0x7f282a8520d0>"
      ]
     },
     "metadata": {},
     "output_type": "display_data"
    }
   ],
   "source": [
    "plot(t1,sol1[:,0],\"--\", label=\"h=0.001\")\n",
    "plot(t2,sol2[:,0],\"--\", label=\"h=0.000001\")\n",
    "plt.legend(loc=\"best\")"
   ]
  }
 ],
 "metadata": {
  "kernelspec": {
   "display_name": "Python 2",
   "language": "python",
   "name": "python2"
  },
  "language_info": {
   "codemirror_mode": {
    "name": "ipython",
    "version": 2
   },
   "file_extension": ".py",
   "mimetype": "text/x-python",
   "name": "python",
   "nbconvert_exporter": "python",
   "pygments_lexer": "ipython2",
   "version": "2.7.12"
  }
 },
 "nbformat": 4,
 "nbformat_minor": 0
}
