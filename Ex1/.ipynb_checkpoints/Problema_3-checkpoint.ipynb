{
 "cells": [
  {
   "cell_type": "code",
   "execution_count": 26,
   "metadata": {
    "collapsed": false
   },
   "outputs": [],
   "source": [
    "import numpy as np\n",
    "import matplotlib.pyplot as plt\n",
    "%run lib.ipynb\n",
    "%matplotlib inline"
   ]
  },
  {
   "cell_type": "code",
   "execution_count": 27,
   "metadata": {
    "collapsed": true
   },
   "outputs": [],
   "source": [
    "alpha = np.pi*np.array([1.0/6,0.1])\n",
    "g = -9.81"
   ]
  },
  {
   "cell_type": "code",
   "execution_count": 28,
   "metadata": {
    "collapsed": true
   },
   "outputs": [],
   "source": [
    "def ec_mov(r_v, t, fric = 0., g = 9.81, m = 1.):\n",
    "    \"\"\"\n",
    "    r_v contiene\n",
    "    \"\"\"\n",
    "    u = sqrt(r_v[2]**2 + r_v[3]**2)\n",
    "    dx = r_v[2]\n",
    "    dy = r_v[3]\n",
    "    if fric == 0.:\n",
    "        dvx = 0.\n",
    "        dvy = -g/m\n",
    "    else:\n",
    "        dvx = -fric([r_v[2], r_v[3]])[0]\n",
    "        dvy = -g/m -fric([r_v[2], r_v[3]])[1]\n",
    "    return array([dx,dy,dvx,dvy])"
   ]
  },
  {
   "cell_type": "code",
   "execution_count": 29,
   "metadata": {
    "collapsed": true
   },
   "outputs": [],
   "source": [
    "def rampa(x,alpha):\n",
    "    return np.abs(x)*np.tan(alpha)"
   ]
  },
  {
   "cell_type": "code",
   "execution_count": 119,
   "metadata": {
    "collapsed": false
   },
   "outputs": [],
   "source": [
    "def rebote_rampa(r_v_i,mi_dt,alpha,L=10,d=3,tol=1e-2,**kwargs):\n",
    "    dt_busqueda = mi_dt/2\n",
    "    y0 = r_v_i\n",
    "    t,sol = int_rk4(ec_mov,y0,[0,dt_busqueda],**kwargs)\n",
    "    y1 = sol[-1,:]        \n",
    "    print y0[1] > tol + rampa(y0[0],alpha)\n",
    "    while y0[1] > tol + rampa(y0[0],alpha):\n",
    "        if y1[1] < yr:\n",
    "            reinicio = y0\n",
    "        else:\n",
    "            reinicio = y1\n",
    "        dt_busqueda = dt_busqueda/2\n",
    "        t,sol = int_rk4(ec_mov,reinicio,[0,dt_busqueda],**kwargs)\n",
    "        y0 = reinicio\n",
    "        y1 = sol[-1,:]\n",
    "    y0[1] > tol + rampa(y0[0],alpha)        \n",
    "    y0[3] *= -1\n",
    "    return y0"
   ]
  },
  {
   "cell_type": "code",
   "execution_count": 120,
   "metadata": {
    "collapsed": false
   },
   "outputs": [
    {
     "name": "stdout",
     "output_type": "stream",
     "text": [
      "True\n"
     ]
    },
    {
     "data": {
      "text/plain": [
       "[<matplotlib.lines.Line2D at 0x7fba77970810>]"
      ]
     },
     "execution_count": 120,
     "metadata": {},
     "output_type": "execute_result"
    },
    {
     "data": {
      "image/png": "[encoded data removed]",
      "text/plain": [
       "<matplotlib.figure.Figure at 0x7fba77970150>"
      ]
     },
     "metadata": {},
     "output_type": "display_data"
    }
   ],
   "source": [
    "fric = 0.0\n",
    "inicio = [-4,2,3,3]\n",
    "N=20\n",
    "trayectoria=zeros((N,len(inicio)))\n",
    "mi_dt=0.1\n",
    "trayectoria[0,:]=array(inicio)\n",
    "\n",
    "for i in range(N-1):\n",
    "    t,sol = int_rk4(ec_mov,trayectoria[i,:],[0,mi_dt],fric=fric)       \n",
    "    # condicion rampa\n",
    "    yr = rampa(sol[-1][0],alpha[0])\n",
    "    if sol[-1][1] < yr:    \n",
    "        y = rebote_rampa(trayectoria[i,:],mi_dt,alpha[0],tol=1e-6)\n",
    "    # condicion techo\n",
    "    elif False:\n",
    "        pass\n",
    "    # condicion paredes\n",
    "    elif False:\n",
    "        pass\n",
    "    # aqui no paso nada\n",
    "    else:\n",
    "        y = sol[-1,:]\n",
    "    trayectoria[i+1,:] = y\n",
    "        \n",
    "x = np.linspace(-5,5)\n",
    "plt.plot(x,rampa(x,alpha[1]))\n",
    "\n",
    "plt.plot(trayectoria[:,0],trayectoria[:,1],'o-')"
   ]
  }
 ],
 "metadata": {
  "kernelspec": {
   "display_name": "Python 2",
   "language": "python",
   "name": "python2"
  },
  "language_info": {
   "codemirror_mode": {
    "name": "ipython",
    "version": 2
   },
   "file_extension": ".py",
   "mimetype": "text/x-python",
   "name": "python",
   "nbconvert_exporter": "python",
   "pygments_lexer": "ipython2",
   "version": "2.7.12"
  }
 },
 "nbformat": 4,
 "nbformat_minor": 0
}
