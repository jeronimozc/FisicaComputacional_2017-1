{
 "cells": [
  {
   "cell_type": "markdown",
   "metadata": {},
   "source": [
    "# Problema 3"
   ]
  },
  {
   "cell_type": "code",
   "execution_count": 2,
   "metadata": {
    "collapsed": false
   },
   "outputs": [],
   "source": [
    "import numpy as np\n",
    "import matplotlib.pyplot as plt\n",
    "%run lib.ipynb\n",
    "%matplotlib inline"
   ]
  },
  {
   "cell_type": "code",
   "execution_count": 3,
   "metadata": {
    "collapsed": true
   },
   "outputs": [],
   "source": [
    "alpha = np.pi*np.array([1.0/6,0.1])\n",
    "g = 9.81"
   ]
  },
  {
   "cell_type": "code",
   "execution_count": 4,
   "metadata": {
    "collapsed": true
   },
   "outputs": [],
   "source": [
    "def ec_mov(r_v, t, fric = 0., g = 9.81, m = 1.):\n",
    "    \"\"\"\n",
    "    r_v contiene\n",
    "    \"\"\"\n",
    "    u = sqrt(r_v[2]**2 + r_v[3]**2)\n",
    "    dx = r_v[2]\n",
    "    dy = r_v[3]\n",
    "    if fric == 0.:\n",
    "        dvx = 0.\n",
    "        dvy = -g/m\n",
    "    else:\n",
    "        dvx = -fric([r_v[2], r_v[3]])[0]\n",
    "        dvy = -g/m -fric([r_v[2], r_v[3]])[1]\n",
    "    return array([dx,dy,dvx,dvy])\n",
    "def fricV2(v, gamma = 0.05):\n",
    "    norma = sqrt(v[0]**2+v[1]**2)\n",
    "    f_x = gamma*norma*v[0]\n",
    "    f_y = gamma*norma*v[1]\n",
    "    return array([f_x,f_y])"
   ]
  },
  {
   "cell_type": "code",
   "execution_count": 5,
   "metadata": {
    "collapsed": true
   },
   "outputs": [],
   "source": [
    "def rampa(x,alpha):\n",
    "    return np.array(np.abs(x)*np.tan(alpha),np.float16)"
   ]
  },
  {
   "cell_type": "code",
   "execution_count": null,
   "metadata": {
    "collapsed": true
   },
   "outputs": [],
   "source": []
  },
  {
   "cell_type": "code",
   "execution_count": 6,
   "metadata": {
    "collapsed": false
   },
   "outputs": [],
   "source": [
    "def rebote_rampa(r_v_i,mi_dt,alpha,tol=1e-2,**kwargs):\n",
    "    dt_busqueda = mi_dt/2\n",
    "    y0 = r_v_i\n",
    "    t,sol = int_rk4(ec_mov,y0,[0,dt_busqueda],**kwargs)\n",
    "    y1 = sol[-1,:]\n",
    "    while abs(y0[1]-rampa(y0[0],alpha)) > tol:\n",
    "        if y1[1] < rampa(y0[0],alpha):\n",
    "            reinicio = y0\n",
    "        else:\n",
    "            reinicio = y1\n",
    "        dt_busqueda = dt_busqueda/2\n",
    "        t,sol = int_rk4(ec_mov,reinicio,[0,dt_busqueda],**kwargs)\n",
    "        y0 = reinicio\n",
    "        y1 = sol[-1,:]  \n",
    "    # rebote \n",
    "    par = 1 if y0[0]>0 else -1    \n",
    "    y0[2] =  y0[2]*np.cos(2*alpha)+par*y0[3]*np.sin(2*alpha)\n",
    "    y0[3] = -y0[3]*np.cos(2*alpha)+par*y0[2]*np.sin(2*alpha)    \n",
    "    return y0\n",
    "def rebote_techo(r_v_i,mi_dt,roof,tol=1e-2,**kwargs):\n",
    "    dt_busqueda = mi_dt/2\n",
    "    y0 = r_v_i\n",
    "    t,sol = int_rk4(ec_mov,y0,[0,dt_busqueda],**kwargs)\n",
    "    y1 = sol[-1,:]  \n",
    "    while abs(y0[1]-roof) > tol:\n",
    "        if y1[1] > roof:\n",
    "            reinicio = y0\n",
    "        else:\n",
    "            reinicio = y1\n",
    "        dt_busqueda = dt_busqueda/2\n",
    "        t,sol = int_rk4(ec_mov,reinicio,[0,dt_busqueda],**kwargs)\n",
    "        y0 = reinicio\n",
    "        y1 = sol[-1,:]  \n",
    "    # rebote vertical\n",
    "    y0[3] *= -1\n",
    "    return y0\n",
    "def rebote_pared(r_v_i,mi_dt,wall,tol=1e-2,**kwargs):\n",
    "    dt_busqueda = mi_dt/2\n",
    "    y0 = r_v_i\n",
    "    t,sol = int_rk4(ec_mov,y0,[0,dt_busqueda],**kwargs)\n",
    "    y1 = sol[-1,:]\n",
    "    par = 1 if y0[0]>0 else -1\n",
    "    while abs(wall-par*y0[0]) > tol:\n",
    "        if par*y1[0] < wall:\n",
    "            reinicio = y0\n",
    "        else:\n",
    "            reinicio = y1\n",
    "        dt_busqueda = dt_busqueda/2\n",
    "        t,sol = int_rk4(ec_mov,reinicio,[0,dt_busqueda],**kwargs)\n",
    "        y0 = reinicio\n",
    "        y1 = sol[-1,:] \n",
    "    # rebote horizontal\n",
    "    y0[2] *= -1\n",
    "    return y0"
   ]
  },
  {
   "cell_type": "code",
   "execution_count": 49,
   "metadata": {
    "collapsed": false
   },
   "outputs": [
    {
     "data": {
      "text/plain": [
       "[<matplotlib.lines.Line2D at 0x7f4996b975d0>]"
      ]
     },
     "execution_count": 49,
     "metadata": {},
     "output_type": "execute_result"
    },
    {
     "data": {
      "image/png": "[encoded data removed]",
      "text/plain": [
       "<matplotlib.figure.Figure at 0x7f4997c41350>"
      ]
     },
     "metadata": {},
     "output_type": "display_data"
    }
   ],
   "source": [
    "fric = fricV2\n",
    "s = 100\n",
    "L,d = 10.0*s,3.0*s\n",
    "mi_dt=0.01\n",
    "a = alpha[1]\n",
    "inicio = np.array([3,3,0,0])*100\n",
    "N=1000\n",
    "trayectoria=zeros((N,len(inicio)))\n",
    "trayectoria[0,:]=array(inicio)\n",
    "\n",
    "roof = d+rampa(L/2,a)\n",
    "wall = L/2\n",
    "for i in range(N-1):\n",
    "    t,sol = int_rk4(ec_mov,trayectoria[i,:],[0,mi_dt],fric=0.0)\n",
    "    y = sol[-1,:]\n",
    "    # condicion piso\n",
    "    yr = rampa(sol[-1][0],a)\n",
    "    if y[1] < yr: \n",
    "        y = rebote_rampa(trayectoria[i,:],mi_dt,a,tol=1e-2)\n",
    "    # condicion techo\n",
    "    elif y[1] > roof:\n",
    "        y = rebote_techo(trayectoria[i,:],mi_dt,roof,tol=1e-2)    \n",
    "    # condicion paredes\n",
    "    if abs(y[0]) > wall :\n",
    "        y = rebote_pared(trayectoria[i,:],mi_dt,wall,tol=1e-2)\n",
    "    trayectoria[i+1,:] = y\n",
    "        \n",
    "x = np.linspace(-L/2,L/2)\n",
    "plt.plot(x,rampa(x,a))\n",
    "plt.hlines(d+rampa(L/2,a),-L/2,L/2)\n",
    "plt.vlines([-L/2,L/2],rampa(L/2,a),rampa(L/2,a)+d)\n",
    "\n",
    "\n",
    "plt.plot(trayectoria[:,0],trayectoria[:,1],'-')\n",
    "plt.plot(trayectoria[-1,0],trayectoria[-1,1],'o')"
   ]
  }
 ],
 "metadata": {
  "anaconda-cloud": {},
  "kernelspec": {
   "display_name": "Python [default]",
   "language": "python",
   "name": "python2"
  }
 },
 "nbformat": 4,
 "nbformat_minor": 0
}
